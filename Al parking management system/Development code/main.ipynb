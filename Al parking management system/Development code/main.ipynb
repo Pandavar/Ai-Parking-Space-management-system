{
 "cells": [
  {
   "cell_type": "code",
   "execution_count": null,
   "metadata": {},
   "outputs": [],
   "source": [
    "import easyocr\n",
    "import cv2\n",
    "import pytesseract\n",
    "import re\n",
    "import time\n",
    "import numpy as np\n",
    "import matplotlib.pyplot as plt \n",
    "from datetime import datetime"
   ]
  },
  {
   "cell_type": "code",
   "execution_count": null,
   "metadata": {},
   "outputs": [],
   "source": [
    "# import sql function from sql_connection.py filwe using magic tool(%run)\n",
    "%run sql_connection.py\n"
   ]
  },
  {
   "cell_type": "code",
   "execution_count": null,
   "metadata": {},
   "outputs": [],
   "source": [
    "# setting path for pytesseract model from the file directory\n",
    "pytesseract.pytesseract.tesseract_cmd = r\"C:\\Program Files\\Tesseract-OCR\\tesseract.exe\""
   ]
  },
  {
   "cell_type": "code",
   "execution_count": null,
   "metadata": {},
   "outputs": [],
   "source": [
    "# initializing object of easyocr, set english as target language and set gpu as False \n",
    "reader = easyocr.Reader(['en'],gpu=False)"
   ]
  },
  {
   "cell_type": "code",
   "execution_count": null,
   "metadata": {},
   "outputs": [],
   "source": [
    "# creating object for number plate detection model \n",
    "numplate_cascade = cv2.CascadeClassifier('haarcascade_russian_plate_number.xml')"
   ]
  },
  {
   "cell_type": "code",
   "execution_count": null,
   "metadata": {},
   "outputs": [],
   "source": [
    "# function to extract number plate \n",
    "def extract_plate(frame):\n",
    "    # conveting BGR frame to gray\n",
    "    gray = cv2.cvtColor(frame,cv2.COLOR_BGR2GRAY)\n",
    "    # Sharpen the image using the Laplacian operator \n",
    "    sharpened_image2 = cv2.GaussianBlur(gray, (7, 7), 0)\n",
    "    # detect number plate using pre-defined model \n",
    "    num_plate = numplate_cascade.detectMultiScale(sharpened_image2,minNeighbors=10)\n",
    "    if len(num_plate) > 0:\n",
    "        W,H,w,h = num_plate[0]\n",
    "        cv2.rectangle(frame,(W,H),(W+w,H+h),(0,0,200),2)\n",
    "\n",
    "        plate = frame[H:H+h,W:W+w]\n",
    "        plt.imshow(plate)\n",
    "        plt.show()\n",
    "        return plate\n",
    "    else:\n",
    "        None"
   ]
  },
  {
   "cell_type": "code",
   "execution_count": null,
   "metadata": {},
   "outputs": [],
   "source": [
    "# function to remove black spaces and capitalizing the letters\n",
    "def upper_strip(num_plate):\n",
    "    return ''.join(num_plate.split()).upper()"
   ]
  },
  {
   "cell_type": "code",
   "execution_count": null,
   "metadata": {},
   "outputs": [],
   "source": [
    "# function to extract character from the number plate \n",
    "def extract_number(plate):\n",
    "    # extracting character by implementing pytesseract\n",
    "    # reg_num = pytesseract.image_to_string(plate,output_type= pytesseract.Output.DICT)\n",
    "    # extacting characters from the extracted frame using easyocr and detail =0 will retrun text only\n",
    "    reg_num = reader.readtext(plate,detail=0)\n",
    "    # pattern to retrun number plate, ex: KL09H9999\n",
    "    pattern = r'^[A-Z]{2}.*[0-9]{1,4}$'\n",
    "    matches = []\n",
    "    for i in reg_num:\n",
    "        # extracted number plate will be compared with the pattern and matching pattern will be inserted to 'matches' list\n",
    "        match = re.findall(pattern, upper_strip(i))\n",
    "        if match:\n",
    "            matches.extend(match)\n",
    "    \n",
    "    if matches:\n",
    "        # each frame will only contain one number plate  \n",
    "        return matches[0]\n",
    "    else:\n",
    "        return None\n",
    "    \n",
    "\n"
   ]
  },
  {
   "cell_type": "code",
   "execution_count": null,
   "metadata": {},
   "outputs": [],
   "source": [
    "create_table() # creating table using query from sql_coonection.py"
   ]
  },
  {
   "cell_type": "code",
   "execution_count": null,
   "metadata": {},
   "outputs": [],
   "source": [
    "# dictionary to store vehicle entering the parking space and time of entry\n",
    "plate_entry_times = {}"
   ]
  },
  {
   "cell_type": "code",
   "execution_count": null,
   "metadata": {},
   "outputs": [],
   "source": [
    "# Open a video file for processing\n",
    "cap = cv2.VideoCapture(r'd:\\Deep Learning\\OCR(Object_character_recognition)\\WhatsApp Video 2024-06-28 at 11.48.16_00aa7520.mp4')\n",
    "\n",
    "# Initialize frame count\n",
    "count = 0\n",
    "\n",
    "# Initialize a dictionary to keep track of plate entry times\n",
    "plate_entry_times = {}\n",
    "\n",
    "# Loop through each frame of the video\n",
    "while True:\n",
    "    # Read a frame from the video\n",
    "    ret, frame = cap.read()\n",
    "\n",
    "    # If the frame was not read correctly, exit the loop\n",
    "    if not ret:\n",
    "        break\n",
    "\n",
    "    # Resize the frame to half its original size\n",
    "    frame = cv2.resize(frame, (0, 0), fx=0.5, fy=0.5)\n",
    "\n",
    "    # Extract the number plate from the frame\n",
    "    number_plate = extract_plate(frame)\n",
    "\n",
    "    # If a number plate is detected\n",
    "    if number_plate is not None:\n",
    "        # Extract the registration number from the number plate\n",
    "        reg_num = extract_number(number_plate)\n",
    "\n",
    "        # Overlay the registration number on the frame\n",
    "        cv2.putText(frame, f'{reg_num}', (100, 50), cv2.FONT_HERSHEY_COMPLEX_SMALL, 2, (0, 0, 200), 2)\n",
    "\n",
    "        # Perform actions every 10 frames\n",
    "        if count % 10 == 0:\n",
    "            print(f\"Frame count {count}\")\n",
    "\n",
    "            # If a registration number is extracted\n",
    "            if reg_num:\n",
    "                # If the registration number is not already logged in plate_entry_times\n",
    "                if reg_num not in plate_entry_times.keys():\n",
    "                    # Record the entry timestamp\n",
    "                    timestamp_entering = datetime.now()\n",
    "\n",
    "                    # Insert entry details into the database and get the entry ID\n",
    "                    entry_id = insert_entry(reg_num, timestamp_entering)\n",
    "\n",
    "                    # Store the entry timestamp in the dictionary\n",
    "                    plate_entry_times[reg_num] = datetime.now()\n",
    "\n",
    "                # If an entry ID exists (i.e., the car was logged in)\n",
    "                if entry_id is not None:\n",
    "                    # Record the exit timestamp\n",
    "                    timestamp_leaving = datetime.now()\n",
    "\n",
    "                    # Calculate the time taken for parking\n",
    "                    time_taken = timestamp_leaving - timestamp_entering\n",
    "\n",
    "                    # Calculate the parking fee based on entry and exit times\n",
    "                    parking_fee = calculate_parking_fee(timestamp_entering, timestamp_leaving)\n",
    "\n",
    "                    # Update the database with exit details\n",
    "                    update_entry(entry_id, timestamp_leaving, time_taken, parking_fee)\n",
    "\n",
    "                    # Remove the registration number from the dictionary\n",
    "                    del plate_entry_times[reg_num]\n",
    "\n",
    "    # Increment the frame count\n",
    "    count += 1\n",
    "\n",
    "    # Display the frame with the overlayed registration number\n",
    "    cv2.imshow('frame', frame)\n",
    "\n",
    "    # Exit the loop if the 'k' key is pressed\n",
    "    if cv2.waitKey(100) == ord('k'):\n",
    "        break\n",
    "\n",
    "# Release the video capture object and close all OpenCV windows\n",
    "cv2.destroyAllWindows()\n",
    "cap.release()"
   ]
  },
  {
   "cell_type": "code",
   "execution_count": null,
   "metadata": {},
   "outputs": [],
   "source": [
    "\n",
    "cap =cv2.VideoCapture(r'd:\\Deep Learning\\OCR(Object_character_recognition)\\WhatsApp Video 2024-06-28 at 11.48.16_00aa7520.mp4')\n",
    "count=0\n",
    "while True:\n",
    "    ret,frame = cap.read()\n",
    "\n",
    "    if not ret:\n",
    "        break \n",
    "    frame=cv2.resize(frame,(0,0),fx=0.5,fy=0.5)\n",
    "    number_plate = extract_plate(frame)\n",
    "    \n",
    "\n",
    "    if  number_plate is not None:\n",
    "        reg_num = extract_number(number_plate)\n",
    "        \n",
    "        cv2.putText(frame,f'{reg_num}',(100,50),cv2.FONT_HERSHEY_COMPLEX_SMALL,2,(0,0,200),2)\n",
    "        if count%10 == 0:\n",
    "            print(f\"Frame count {count}\")\n",
    "            if reg_num:\n",
    "                if reg_num not in plate_entry_times.keys():\n",
    "                    timestamp_entering = datetime.now()\n",
    "                    entry_id = insert_entry(reg_num, timestamp_entering)\n",
    "                    plate_entry_times[reg_num] =datetime.now()\n",
    "                    \n",
    "                if entry_id is not None:\n",
    "                     timestamp_leaving = datetime.now()\n",
    "                     time_taken = timestamp_leaving - timestamp_entering\n",
    "                     parking_fee = calculate_parking_fee(timestamp_entering, timestamp_leaving)\n",
    "                     update_entry(entry_id, timestamp_leaving, time_taken, parking_fee)\n",
    "                    \n",
    "                     del plate_entry_times[reg_num]\n",
    "                    \n",
    "    count+=1\n",
    "    cv2.imshow('frame',frame)\n",
    "    if cv2.waitKey(100) == ord('k'):\n",
    "            break\n",
    "cv2.destroyAllWindows()\n",
    "cap.release()"
   ]
  }
 ],
 "metadata": {
  "kernelspec": {
   "display_name": "Python 3",
   "language": "python",
   "name": "python3"
  },
  "language_info": {
   "codemirror_mode": {
    "name": "ipython",
    "version": 3
   },
   "file_extension": ".py",
   "mimetype": "text/x-python",
   "name": "python",
   "nbconvert_exporter": "python",
   "pygments_lexer": "ipython3",
   "version": "3.12.3"
  }
 },
 "nbformat": 4,
 "nbformat_minor": 2
}
